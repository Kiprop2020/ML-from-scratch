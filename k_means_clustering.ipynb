{
 "cells": [
  {
   "cell_type": "markdown",
   "metadata": {},
   "source": [
    "### ***K*-Means with Pyhton and Numpy**\n",
    "This is a for-fun project in the Data Science and Informatics class. The aim is to code a *K*-Means Clustering algorithm to cluseter *n*-dimensional data to a give (*K*) clusters.\n",
    "\n",
    "The algorith is as below.\n",
    "\n",
    "Given:\n",
    "* *K* clusters\n",
    "* X training data\n",
    "* iter - the number of times the algorithm will be run\n",
    "* init - The initialization method can be either random or k-means++\n",
    "1. Randomly initialise *K* centroids\n",
    "2. Repeat for a given number of iterations:\n",
    "\n",
    "    i. Assign all samples into the centroids\n",
    "\n",
    "    ii. For all the clusters, calculate the centroid \n",
    "    \n",
    "    iii. Assign the calculated centroid as the new centroid\n",
    "\n",
    "Convergence in step 2 above means that untill we have reached max_iterations or untill there is no change (<1% change) in new vs old centroids\n"
   ]
  },
  {
   "cell_type": "code",
   "execution_count": 1,
   "metadata": {},
   "outputs": [],
   "source": [
    "import numpy as np"
   ]
  },
  {
   "cell_type": "markdown",
   "metadata": {},
   "source": [
    "Define the functions"
   ]
  },
  {
   "cell_type": "code",
   "execution_count": 2,
   "metadata": {},
   "outputs": [],
   "source": [
    "def initialize_centroids(X: np.ndarray, K: int, init=\"k-means++\"):\n",
    "    \"\"\"\n",
    "    Args:\n",
    "        X:  (numpy.array) of shape (n, d) where n is the number of data points e.g., rows and d is the number of dimensions e.g., the number of columns\n",
    "        K:  (int) number of desired clusters \n",
    "        init:   (str) mode of initializing centroid. Is \"k-means++\" or \"random\", default: \"k-means++\"\n",
    "    \n",
    "    Returns:\n",
    "        A numpy.array of shape (K, d) where each row is a centroid\n",
    "\n",
    "    Example:\n",
    "        sample_data = np.random.rand(50, 5)\n",
    "        print(sample_data)\n",
    "        >> array([[0.86972102, 0.81164705, 0.55764748, 0.64402901, 0.35200195],\n",
    "                [0.63123075, 0.28904061, 0.96250882, 0.21030159, 0.50169307],\n",
    "            ...\n",
    "                [0.53688645, 0.64984111, 0.42659372, 0.52634236, 0.28854585],\n",
    "                [0.57347827, 0.23247038, 0.59057671, 0.59052837, 0.23968995]])\n",
    "        initial_centroids = initialize_centroids(X=sample_data, K=3, init=\"k-means++\")\n",
    "        print(initial_centroids)\n",
    "        >> array([[0.36218138, 0.98060153, 0.86943119, 0.43336311, 0.92586009],\n",
    "                [0.57347827, 0.23247038, 0.59057671, 0.59052837, 0.23968995],\n",
    "                [0.29819011, 0.72068191, 0.39593067, 0.41426094, 0.18496079]])\n",
    "    \"\"\"\n",
    "    n, d = X.shape\n",
    "    centroids = np.zeros((K, d))\n",
    "\n",
    "    # K-Means++ initialization\n",
    "    if init == \"k-means++\":\n",
    "        index = np.random.choice(n)\n",
    "        centroids[0] = X[index]\n",
    "        # X = np.delete(X, 0, axis=0)\n",
    "        \n",
    "        # Iterate through K-1 - centroid[i] is already selected at random \n",
    "        for i in range(K-1):\n",
    "            distances = []\n",
    "            # Iterate through all the data points\n",
    "            for j in range(n):\n",
    "                dist = calculate_euclidean_distance(centroids[i], X[j])\n",
    "                distances.append(dist)\n",
    "                # Find the index of the data point with the greatest distance from the jth data point\n",
    "                max_dist_index = distances.index(max(distances))\n",
    "                distant_sample = X[max_dist_index]\n",
    "                # If data point with the greatest euc dist is already in centroids, replace with -float(\"inf\") so it is not selected again\n",
    "                if distant_sample in centroids:\n",
    "                    distances[max_dist_index] = -float(\"inf\")\n",
    "                    max_dist_index = distances.index(max(distances))\n",
    "                    distant_sample = (X[max_dist_index])\n",
    "                centroids[i + 1] = distant_sample\n",
    "\n",
    "    # Random initialization\n",
    "    # Choose K indices from 0 to n-1 without replacement\n",
    "    elif init == \"random\":\n",
    "\n",
    "        indices = np.random.choice(n, K, replace=False)\n",
    "\n",
    "        # Assign each data point to the indices\n",
    "        for i in range(K):\n",
    "            centroids[i] = X[indices[i]]\n",
    "    return centroids\n",
    "\n",
    "\n",
    "def calculate_euclidean_distance(x: (int, float), centroid: (int, float)):\n",
    "    \"\"\" \n",
    "    Returns:\n",
    "        The euclidean distance/shortest distance (numpy.float64) between x, and another point, in this case the centroid\n",
    "    \"\"\"\n",
    "    return np.linalg.norm(x - centroid)\n",
    "\n",
    "def assign_clusters(X: np.ndarray, centroids:np.ndarray):\n",
    "    \"\"\"\n",
    "    X  - numpy array of shape (n, d)\n",
    "    centroids - numpy array of shape (K, d) where K is the number of clusters\n",
    "    Returns a numpy array of shape (n, ) where each element from 0 to K-1 represents the cluster index\n",
    "    \n",
    "    \"\"\"\n",
    "    n, d = X.shape\n",
    "    K = centroids.shape[0]\n",
    "    clusters = np.zeros(n)\n",
    "    # Loop through each data point\n",
    "    for i in range(n):\n",
    "        # Initialize the minimum distance and the nearest cluster index\n",
    "        min_dist = float('inf')\n",
    "        nearest_cluster = -1\n",
    "        # Loop through each centroid\n",
    "        for j in range(K):\n",
    "            # Calculate the distance between the data point and the centroid\n",
    "            dist = calculate_euclidean_distance(X[i], centroids[j])\n",
    "            # Update the minimum distance and the nearest cluster index if needed\n",
    "            if dist < min_dist:\n",
    "                min_dist = dist\n",
    "                nearest_cluster = j\n",
    "        # Assign the data point to the nearest cluster index\n",
    "        clusters[i] = nearest_cluster\n",
    "    return clusters\n",
    "\n",
    "def update_centroids(X: np.ndarray, clusters: np.ndarray, K: int):\n",
    "    \"\"\"\n",
    "    X  - numpy array of shape (n, d)\n",
    "    cluster - numpy array of shape (n, ) where each element from 0 to K-1 represents the cluster index\n",
    "    K - an integer representing the number of desired clusters\n",
    "    Returns a numpy array of shape (K, d) where each row is a centroid\n",
    "    \"\"\"\n",
    "    n, d = X.shape\n",
    "    centroids = np.zeros((K, d))\n",
    "    # Loop over all the clusters\n",
    "    for i in range(K):\n",
    "        # Find the data_point that belongs to teh ith cluster\n",
    "        cluster_points = X[clusters == i]\n",
    "        # The new centroid is the mean of the data_points belonging to each cluster\n",
    "        centroids[i] = np.mean(cluster_points, axis=0)\n",
    "    return centroids"
   ]
  },
  {
   "cell_type": "markdown",
   "metadata": {},
   "source": [
    "Putting everything together..."
   ]
  },
  {
   "cell_type": "code",
   "execution_count": 3,
   "metadata": {},
   "outputs": [],
   "source": [
    "def K_Means(X: np.ndarray, K: int, iter=10, init=\"k-means++\"):\n",
    "    \"\"\"\n",
    "    Args:\n",
    "        X:      (array) The data to be clusters. Must be of shape (n, d)\n",
    "        K:      (int) Number of iterations the algorithm is run\n",
    "        iter:   (int) Number of times to algorithm is run\n",
    "        init:   (str) Mode of initializing the first centroids. Can be \"k-means++\" or \"random\".\n",
    "                Default: \"k-means++\"\n",
    "\n",
    "    Returns:\n",
    "        Tuple: (centroids, clusters)\n",
    "            centroids:  (array) of shape (K, d). Each row isa centroid\n",
    "            clusters:   (array) of shape (n,). Each element from 0 to K-1 represents the cluster\n",
    "                        index\n",
    "\n",
    "    Example:\n",
    "        import numpy as np\n",
    "        sample_data = np.radom.rand(1000, 6)\n",
    "        print(sample_data)\n",
    "        >> [[0.11546992 0.69701284 0.94626245 0.43945078 0.2757349  0.20139318]\n",
    "            [0.41358741 0.5838059  0.78167989 0.10376082 0.24101117 0.91760498]\n",
    "            [0.88795947 0.284727   0.53309844 0.00563349 0.75874276 0.35680307]\n",
    "            ...\n",
    "            [0.20750743 0.34537109 0.48714451 0.82831332 0.7782756  0.58122822]\n",
    "            [0.91804444 0.12622502 0.75155295 0.14634239 0.31668819 0.91805061]\n",
    "            [0.76557576 0.06529301 0.24500135 0.76615681 0.07685889 0.35137789]]\n",
    "        num_clusters = 5\n",
    "        num_iter = 10\n",
    "        initialization = \"random\"\n",
    "        centroids, clusters = K_Means(X=sample_data, K=num_clusters, iter=num_iter, init=initialization)\n",
    "        print(centroids)\n",
    "        >> [[0.67532719 0.52925574 0.34511936 0.54238492 0.19822194 0.5829324 ]\n",
    "            [0.60509993 0.34625553 0.48119633 0.49515062 0.73236484 0.80382581]\n",
    "            [0.18992726 0.47520962 0.66133127 0.36505052 0.39844507 0.48462117]\n",
    "            [0.71625778 0.54047154 0.79467138 0.53513347 0.56858578 0.34848737]\n",
    "            [0.35889303 0.51498794 0.26376929 0.58924582 0.6474062  0.28585128]]\n",
    "    \"\"\"\n",
    "    # Randomly nitialize the centroids by calling the initialize_centroids function\n",
    "    centroids = initialize_centroids(X, K, init)\n",
    "\n",
    "    # Loop over the number of iterations\n",
    "    for i in range(iter):\n",
    "        # For each iteration, assign clusters by calling the assign_clusters function\n",
    "        clusters = assign_clusters(X, centroids)\n",
    "        # For each iteration, update the centroids by calling the update_centroids function\n",
    "        centroids = update_centroids(X, clusters, K)\n",
    "    return (centroids, clusters)"
   ]
  },
  {
   "cell_type": "code",
   "execution_count": 26,
   "metadata": {},
   "outputs": [],
   "source": [
    "sample_data = np.random.rand(1452, 2)\n",
    "centroids, clusters = K_Means(X=sample_data, K=7, iter=20, init=\"k-means++\")"
   ]
  },
  {
   "cell_type": "code",
   "execution_count": 27,
   "metadata": {},
   "outputs": [
    {
     "data": {
      "text/plain": [
       "{0.0, 1.0, 2.0, 3.0, 4.0, 5.0, 6.0}"
      ]
     },
     "execution_count": 27,
     "metadata": {},
     "output_type": "execute_result"
    }
   ],
   "source": [
    "set(clusters)"
   ]
  },
  {
   "cell_type": "markdown",
   "metadata": {},
   "source": [
    "Plot the predictions\n",
    "*Note:* The function below works only for 2-d data. More to come soon..."
   ]
  },
  {
   "cell_type": "code",
   "execution_count": 28,
   "metadata": {},
   "outputs": [
    {
     "data": {
      "text/plain": [
       "<matplotlib.collections.PathCollection at 0x1c7e52fb050>"
      ]
     },
     "execution_count": 28,
     "metadata": {},
     "output_type": "execute_result"
    },
    {
     "data": {
      "image/png": "[encoded data removed]",
      "text/plain": [
       "<Figure size 432x288 with 1 Axes>"
      ]
     },
     "metadata": {
      "needs_background": "light"
     },
     "output_type": "display_data"
    }
   ],
   "source": [
    "import pandas as pd\n",
    "import matplotlib.pyplot as plt\n",
    "\n",
    "def plot_clusters(X, clusters):\n",
    "    X = pd.DataFrame(X)\n",
    "    X[\"labels\"] = clusters\n",
    "    for i in range(len(set(clusters))):\n",
    "        filtered_df = X[X[\"labels\"] == i]\n",
    "        plot = plt.scatter(filtered_df[filtered_df.columns[0]], filtered_df[filtered_df.columns[1]])\n",
    "    return plot\n",
    "\n",
    "\n",
    "plot_clusters(sample_data, clusters=clusters)"
   ]
  }
 ],
 "metadata": {
  "kernelspec": {
   "display_name": "data_mining",
   "language": "python",
   "name": "python3"
  },
  "language_info": {
   "codemirror_mode": {
    "name": "ipython",
    "version": 3
   },
   "file_extension": ".py",
   "mimetype": "text/x-python",
   "name": "python",
   "nbconvert_exporter": "python",
   "pygments_lexer": "ipython3",
   "version": "3.11.5"
  },
  "orig_nbformat": 4
 },
 "nbformat": 4,
 "nbformat_minor": 2
}
